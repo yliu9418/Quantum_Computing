{
 "cells": [
  {
   "cell_type": "markdown",
   "id": "1de1d858-ac81-472e-b2df-60a798ab7e83",
   "metadata": {},
   "source": [
    
    "Introduction to Qiskit"
    "# Step 1 : Import Packages¶"
   ]
  },
  {
   "cell_type": "code",
   "execution_count": 1,
   "id": "c43230ba-57c6-4269-a094-4c49d7bc2543",
   "metadata": {},
   "outputs": [],
   "source": [
    "import numpy as np\n",
    "from qiskit import QuantumCircuit, transpile\n",
    "from qiskit.providers.aer import QasmSimulator\n",
    "from qiskit.visualization import plot_histogram"
   ]
  },
  {
   "cell_type": "markdown",
   "id": "57097621-9659-487a-b952-5db6ee93b1ab",
   "metadata": {},
   "source": [
    "# Step 2 : Initialize Variables"
   ]
  },
  {
   "cell_type": "code",
   "execution_count": 2,
   "id": "9812e333-1cde-4420-b815-1b2fcda2a507",
   "metadata": {},
   "outputs": [],
   "source": [
    "# Create a Quantum Circuit acting on the q register\n",
    "circuit = QuantumCircuit(2, 2)"
   ]
  },
  {
   "cell_type": "markdown",
   "id": "d071239f-09a4-4510-8a8d-2fc31c394871",
   "metadata": {},
   "source": [
    "# Step 3 : Add Gates"
   ]
  },
  {
   "cell_type": "code",
   "execution_count": 3,
   "id": "33fff646-781c-4657-9c40-9b89acfa0260",
   "metadata": {},
   "outputs": [
    {
     "data": {
      "text/plain": [
       "<qiskit.circuit.instructionset.InstructionSet at 0x7fa523ceb780>"
      ]
     },
     "execution_count": 3,
     "metadata": {},
     "output_type": "execute_result"
    }
   ],
   "source": [
    "# Add a H gate on qubit 0. A Hadamard gate H on qubit 0, which puts it into a superposition state.\n",
    "circuit.h(0)\n",
    "\n",
    "# Add a CX (CNOT) gate on control qubit 0 and target qubit 1. A controlled-Not operation (𝐶𝑁𝑂𝑇) on control qubit 0 and target qubit 1, \n",
    "# putting the qubits in an entangled state.\n",
    "circuit.cx(0, 1)\n",
    "\n",
    "# Map the quantum measurement to the classical bits\n",
    "circuit.measure([0,1], [0,1])"
   ]
  },
  {
   "cell_type": "markdown",
   "id": "9adebfca-2d23-4654-90fe-c7e1c68c8028",
   "metadata": {},
   "source": [
    "# Step 4 : Visualize the Circuit"
   ]
  },
  {
   "cell_type": "code",
   "execution_count": 4,
   "id": "c90036ad-9455-4dcc-a715-ae3b618b44a3",
   "metadata": {},
   "outputs": [
    {
     "data": {
      "image/png": "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\n",
      "text/plain": [
       "<Figure size 327.252x204.68 with 1 Axes>"
      ]
     },
     "execution_count": 4,
     "metadata": {},
     "output_type": "execute_result"
    }
   ],
   "source": [
    "# Draw the circuit\n",
    "circuit.draw()"
   ]
  },
  {
   "cell_type": "markdown",
   "id": "e3ba78b9-1655-48c2-895c-b6e2d3dec473",
   "metadata": {},
   "source": [
    "# Step 5 : Simulate the Experiment"
   ]
  },
  {
   "cell_type": "code",
   "execution_count": 5,
   "id": "b6f37b07-2db4-4ae5-a1be-df40fd240d24",
   "metadata": {},
   "outputs": [
    {
     "name": "stdout",
     "output_type": "stream",
     "text": [
      "\n",
      "Total count for 00 and 11 are: {'11': 489, '00': 511}\n"
     ]
    }
   ],
   "source": [
    "# Use Aer's qasm_simulator\n",
    "simulator = QasmSimulator()\n",
    "\n",
    "# compile the circuit down to low-level QASM instructions\n",
    "# supported by the backend (not needed for simple circuits)\n",
    "compiled_circuit = transpile(circuit, simulator)\n",
    "\n",
    "# Execute the circuit on the qasm simulator\n",
    "job = simulator.run(compiled_circuit, shots=1000)\n",
    "# The number of times the circuit is run can be specified via the shots argument of the execute method. \n",
    "# The number of shots of the simulation was set to be 1000 (the default is 1024).\n",
    "\n",
    "# Grab results from the job\n",
    "result = job.result()\n",
    "\n",
    "# Returns counts\n",
    "counts = result.get_counts(compiled_circuit)\n",
    "print(\"\\nTotal count for 00 and 11 are:\",counts)\n"
   ]
  },
  {
   "cell_type": "markdown",
   "id": "eae5191d-de4d-47d3-850b-56dc32eca7f9",
   "metadata": {},
   "source": [
    "# Step 6 : Visualize the Results"
   ]
  },
  {
   "cell_type": "code",
   "execution_count": 6,
   "id": "82abefa3-7ca9-48bf-b879-50e619aa20c9",
   "metadata": {},
   "outputs": [
    {
     "data": {
      "image/png": "iVBORw0KGgoAAAANSUhEUgAAAc0AAAE6CAYAAAB00gm8AAAAOXRFWHRTb2Z0d2FyZQBNYXRwbG90bGliIHZlcnNpb24zLjUuMSwgaHR0cHM6Ly9tYXRwbG90bGliLm9yZy/YYfK9AAAACXBIWXMAAAsTAAALEwEAmpwYAAAhTElEQVR4nO3dfbyVZZ3v8c9PkC0KJGCAPAWokIBupe3sSARm0vKUeaay7GHGytRTlo55nGNzxh5PT3NqOmLWVDSvTJvKTKecnqwsJBShDTMoYMgEGCAPgRQguJHt7/yxFs5mu/fm3rBYe7H5vF+v9WKt677ue/+Wm8XX676v+1qRmUiSpAM7prsLkCTpSGFoSpJUkKEpSVJBhqYkSQUZmpIkFWRoSpJUUO/uLqA7nXTSSTlmzJjuLkOSVEMWLVq0JTNf3N62ozo0x4wZQ1NTU3eXIUmqIRHxREfbqn56NiKujojVEfFMRCyKiPMO0L9PRHy8vE9zRPw+Iq5t0+eNEbG8vH15RLz+8L4LSdLRqKqhGRGXArOATwFnAw8BP4mI0Z3s9h3gQuAqYALwJuCRVsecCtwJ/AtwVvnPuyKi8TC8BUnSUSyquYxeRCwAHsnMK1u1rQS+l5l/107/VwF3Aadk5pYOjnknMCgzL2jV9gvgD5n51s7qaWhoSE/PSpJai4hFmdnQ3raqXdOMiD7Ay4DPtdn0M+AVHez2l8BvgOsj4jJgN/AT4H9n5s5yn6nAF9rsdx/w/g7quIrSqJXhw4czZ84cAMaNG0f//v1ZsmQJAIMHD2bSpEnMnTsXgN69ezNt2jQWL17M9u3bAWhoaGDTpk2sXbsWgNNOO426ujqWLl0KwJAhQxg/fjzz5s0DoK6ujqlTp9LU1MTOnaXyGxsbWbduHevXrwdgwoQJ9OrVi+XLlwMwbNgwxo4dy/z58wHo27cvjY2NLFiwgN27d5f+A0ydyurVq9m4cSMAEydOpKWlhRUrVgAwYsQIRo4cyYIFCwDo168fDQ0NzJ8/n+bmZgCmTZvG448/zubNmwGYPHkyzc3NrFy5EoBRo0YxdOjQ568BDxgwgClTpjBv3jz27t0LwPTp01m2bBlbt24FoL6+nh07drBq1SqgdA150KBBLF68GICBAwdSX1/PAw88QGYSEcyYMYMlS5awbds2AKZMmcJTTz3FmjVr/D35e/L35O+pKr+nzlRtpBkRw4H1wIzMnNuq/cPA2zNzQjv7/BSYCdwPfBw4kVJAPpKZl5T77AGuyMzbW+13GTA7M+s6q8mRpiSprZoYaR6kY4AE3paZfwKIiPcD90XE0Mzc1K3VSZKOKtWcCLQFaAGGtmkfCmzsYJ8NwPp9gVn2WPnPfZOHNnbxmJIkHZSqhWZm7gEWARe02XQBpVm07XkQGB4R/Vq1jS//ue8+mvldPKYkSQel2vdpfh54Z0RcERGnR8QsYDjwZYCIuD0ibm/V/1vAVuDrETEpIs6ldMvK9zJzc7nPLOAvIuKDEfHSiPg74M+Bm6v0niRJR4mqXtPMzDsjYjBwE3AysBR4TWbuGzWObtN/Z0ScT2nyz2+AbcD3gQ+26vNQRLwF+ASlyUK/Ay7NzAWH+e1Iko4yVb1Ps9Y4e1aS1FZns2f9lhNJkgoyNCVJKsjQlCSpIENTkqSCDE1JkgoyNCVJKsjQlCSpIENTkqSCDE1JkgoyNCVJKsjQlCSpIEPzKPbTn/6UCRMmcOqpp/KZz3zmBdtvu+02XvziF3PWWWdx1lln8bWvfe35bRdeeCEnnngiF1100X773HrrrZx66qlEBFu2bDns70GSqqmq33Ki2tHS0sL73vc+fv7znzNy5EjOOeccLr74YiZOnLhfv0svvZRbb731Bfv/7d/+Lbt27eIrX/nKfu3nnnsuF110ETNnzjyc5UtSt3CkeZRauHAhp556KuPGjaNPnz685S1v4Qc/+EHh/V/5ylfSv3//F7SfffbZjBkzpoKVSlLtMDSPUuvXr2fUqFHPvx45ciTr169/Qb+7776bM888k0suuYS1a9dWs0RJqjmGpjr0ute9jjVr1vDII49wwQUX8I53vKO7S5KkbmVoHqVGjBix38hx3bp1jBgxYr8+gwcPpq6uDoArrriCRYsWVbVGSao1huZR6pxzzmHlypWsXr2aPXv28J3vfIeLL754vz4bNmx4/vm9997L6aefXu0yJammGJpHqd69e3Prrbfy6le/mtNPP503v/nNTJo0iQ9/+MPce++9ANxyyy1MmjSJ+vp6brnlFm677bbn9z/vvPN405vexP3338/IkSO57777nt9n5MiRrFu3jjPPPJMrrriiO96eJB0WkZndXUO3aWhoyKampu4uQ5JUQyJiUWY2tLfNkaYkSQUZmpJ0hDjQKl773H333UQE+86kPfvss7zjHe/gjDPO4PTTT+fTn/70831nzZrF5MmTmTRpEjfffPPhfgtHPFcEkqQjQNFVvHbs2MGsWbNobGx8vu2uu+6iubmZRx99lF27djFx4kTe+ta3snPnTmbPns3ChQvp06cPF154IRdddBGnnnpqtd/eEcORpiQdAYqu4vWhD32IG2+8keOOO+75tojg6aefZu/evezevZs+ffowYMAAHnvsMRobGzn++OPp3bs3M2bM4J577qnm2zriGJqSdAQosorX4sWLWbt2La997Wv3a7/kkks44YQTOPnkkxk9ejQ33HADgwYNYvLkyfz6179m69at7Nq1ix//+Meu/HUAnp6VpB7gueee4/rrr9/v1rB9Fi5cSK9evXjyySfZtm0b5513Hueffz6nn346N954I6961as44YQTOOuss+jVq1f1iz+CONKUpCPAgVbx2rFjB0uXLmXmzJmMGTOGhx9+mIsvvpimpia+9a1vceGFF3LssccyZMgQzj333OcnCb373e9m0aJFzJ07l4EDBzJ+/Piqv7cjiaEpSUeAA63i9aIXvYgtW7awZs0a1qxZw8tf/nLuvfdeGhoaGD16NL/85S8BePrpp3n44Yd56UtfCsDmzZsB+P3vf88999zD2972tuq/uSOIp2cl6QjQehWvlpYWLr/88udX8WpoaHjBMpitve997+Nd73oXkyZNIjN517vexZlnngnAG9/4RrZu3cqxxx7LF7/4RU488cQqvaMjkysCuSKQJKkVVwSSJKkCDE1JkgrymmYFXHlzd1egw2H2dd1dgaRa40hTkqSCDE1JkgoyNCVJKsjQlCSpIENTkqSCDE1JkgoyNCVJKsjQlCSpIENTkqSCXBFI0lHHVbx6pmqs4uVIU5KkggxNSZIKMjQlSSrI0JQkqSBDU5KkggxNSZIKMjQlSSrI0JQkqSBDU5KkggxNSZIKMjQlSSrI0JQkqaCqh2ZEXB0RqyPimYhYFBHnFdxvWkTsjYilbdrfGRHZzuO4w/MOJElHq6qGZkRcCswCPgWcDTwE/CQiRh9gv4HA7cD9HXTZBZzc+pGZz1SqbkmSoPojzeuB2zJzdmY+lpnXABuA9x5gv38GvgHM72B7ZubG1o8K1ixJElDF0IyIPsDLgJ+12fQz4BWd7Hc1MBT4RCeH7xsRT0TEuoj4YUScfcgFS5LURjW/hPokoBewqU37JuD89naIiDOAjwAvz8yWiGiv2wrgcmAJ0B/4G+DBiKjPzJXtHPMq4CqA4cOHM2fOHADGjRtH//79WbJkCQCDBw9m0qRJzJ07F4DevXszbdo0Fi9ezPbt2wFoaGhg06ZNwClF/xvoCNLU1MTOnTsBaGxsZN26daxfvx6ACRMm0KtXL5YvXw7AsGHDGDt2LPPnl06G9O3bl8bGRhYsWMDu3bsBmDp1KqtXr2bjxtKJkIkTJ9LS0sKKFSsAGDFiBCNHjmTBggUA9OvXj4aGBubPn09zczMA06ZN4/HHH2fz5s0ATJ48mebmZlauLP1VHzVqFEOHDqWpqQmAAQMGMGXKFObNm8fevXsBmD59OsuWLWPr1q0A1NfXs2PHDlatWgXAmDFjGDRoEIsXLwZg4MCB1NfX88ADD5CZRAQzZsxgyZIlbNu2DYApU6bw1FNPsWbNGuDQPk9r164F4LTTTqOuro6lS0vTGIYMGcL48eOZN28eAHV1dUydOvWgfk9Q18W/DToSbNiwoSKfp85EZh7Gt9DqB0UMB9YDMzJzbqv2DwNvz8wJbfrXAf8OfDoz7yi3fRS4JDMnd/JzegH/AfwqM6/trKaGhobc94/LofBb4HumanwLvLqHn9meqVKf2YhYlJkN7W2r5khzC9BC6VRra0OB9q5BngycDnw9Ir5ebjsGiIjYC7wmM9ue6qU8Im0CTqtY5ZIkUcVrmpm5B1gEXNBm0wWUZtG2tR44Azir1ePLwH+Wn7e3D1E6h3smpQlGkiRVTDVHmgCfB+6IiIXAg8B7gOGUwpCIuB0gMy/LzGeBtvdkbgaaM3Npq7aPAA8DK4EBwLWUQvNAM3IlSeqSqoZmZt4ZEYOBmyidfl1K6TTrE+Uund6v2YETga8Cw4A/UboOOj0zFx56xZIk/ZdqjzTJzC8BX+pg28wD7PtR4KNt2j4AfKAy1UmS1DHXnpUkqSBDU5KkggxNSZIKMjQlSSrI0JQkqSBDU5KkggxNSZIKMjQlSSrI0JQkqSBDU5KkggxNSZIKMjQlSSrI0JQkqSBDU5KkggxNSZIKMjQlSSrI0JQkqaAuhWZEHBMRx7R6PSwiroiIcytfmiRJtaWrI80fAdcAREQ/oAn4LDAnIi6rcG2SJNWUroZmA/DL8vM3ANuBIcCVwA0VrEuSpJrT1dDsB/yx/PxVwL9m5rOUgvSUCtYlSVLN6Wpo/h44NyJOAF4N/LzcPgjYVcnCJEmqNb272P/zwB3ATuAJYG65fTrwaAXrkiSp5nQpNDPzKxGxCBgF/Dwznytv+h3woUoXJ0lSLenqSJPMbKI0a7Z1248qVpEkSTWqy4sbRMTVEbEsInZFxLhy240R8ebKlydJUu3o6uIG1wE3AV8FotWmJ4H3V64sSZJqT1dHmu8BrszMWcDeVu2LgUkVq0qSpBrU1dB8CbC0nfZngb6HXo4kSbWrq6G5CpjSTvtrgOWHXo4kSbWrq7NnPwfcGhHHU7qmOTUi/hr4X8DllS5OkqRa0tX7NL8eEb2BTwHHU1ro4Eng2sy88zDUJ0lSzTiY+zRnA7Mj4iTgmMzcXPmyJEmqPV0OzX0yc0slC5EkqdYdMDQj4hFgRmZui4hHgeyob2aeWcniJEmqJUVGmncDza2edxiakiT1ZAcMzcz8WKvnHz2s1UiSVMO6uozeLyPixHbaB0TELytWlSRJNairixvMBPq0034ccN4hVyNJUg0rNHs2IlqvAnRmRDzV6nUv4NXA+koWJklSrSl6y0kTpQlACfysne27gWsqVZQkSbWoaGiOpbRs3irgz4A/tNq2B9icmS0Vrk2SpJpSKDQz84ny0y5/abUkST1FkcUN3gD8W2Y+W37eocy8p2KVSZJUY4qMNL8HDAM2l593JClNCpIkqUcqsrjBMe09lyTpaGMISpJUUNFrmoV4TVOS1JMVvaZZhNc0JUk9WpeuaUqSdDQzECVJKsj7NCVJKsj7NCVJKsj7NCVJKsgQlCSpoC6HZkRMiYjbI6Kp/LijzfdtSpLUI3UpNCPi7cBvgJOBH5cfQ4GFEfFXBY9xdUSsjohnImJRRJzXSd8ZEfFQRGyNiN0R8duIuKGdfm+MiOUR0Vz+8/VdeV+SJBVR9Ps09/kk8KHM/FTrxoj4O+ATwDc72zkiLgVmAVcD88p//iQiJmbm79vZZSdwC/AosAs4F/hKROzKzC+VjzkVuBP4CHAP8Abgrog4NzMXdPH9SZLUoa6enn0x8N122u8ChhTY/3rgtsycnZmPZeY1wAbgve11zsxFmfmdzFyWmasz85vAfUDr0el1wK8y85PlY34SmFNulySpYro60vwVMBP4zzbtM4EHOtsxIvoALwM+12bTz4BXFPnhEXF2ue9HWzVPBb7Qput9wPs7OMZVwFUAw4cPZ86cOQCMGzeO/v37s2TJEgAGDx7MpEmTmDt3LgC9e/dm2rRpLF68mO3btwPQ0NDApk2bgFOKlK8jTFNTEzt37gSgsbGRdevWsX79egAmTJhAr169WL58OQDDhg1j7NixzJ8/H4C+ffvS2NjIggUL2L17NwBTp05l9erVbNy4EYCJEyfS0tLCihUrABgxYgQjR45kwYLSCZJ+/frR0NDA/PnzaW5uBmDatGk8/vjjbN68GYDJkyfT3NzMypUrARg1ahRDhw6lqakJgAEDBjBlyhTmzZvH3r17AZg+fTrLli1j69atANTX17Njxw5WrVoFwJgxYxg0aBCLFy8GYODAgdTX1/PAAw+QmUQEM2bMYMmSJWzbtg2AKVOm8NRTT7FmzRrg0D5Pa9euBeC0006jrq6OpUuXAjBkyBDGjx/PvHnzAKirq2Pq1KkH9XuCui7+bdCRYMOGDRX5PHUmMrPzDvsvaHAypcC6G3i43PZySqdEP7rvlGkHxxkOrAdmZObcVu0fBt6emRM62XcdpVFub+BjmfnxVtv2AFdk5u2t2i4DZmdmp5+MhoaG3PePy6G48uZDPoRq0OzrursCHS5+ZnumSn1mI2JRZja0t+1gF2x/frTWyheADkPzEJ0H9KMU0P8QEasz847D9LMkSWpXNRds3wK0UJpt29pQYOMBalhdfvpoRAylNNrdF5obD+aYkiR1VdUWN8jMPcAi4II2my4AHurCoY5h/wsS8ytwTEmSDqirE4GIiIHAfwNGA31ab2t9rbEDnwfuiIiFwIPAe4DhwJfLx769fJzLyq+vAVYDK8r7TwduYP/TwLOAuRHxQeD7wOuBPwemdfW9SZLUmS6FZkS8HPgR0ExpYs56SpODmoE1QKehmZl3RsRg4KbyfkuB12TmE+Uuo9vs0gv4B2AMsBf4HfBByiFbPuZDEfEWSveJfrzc51Lv0ZQkVVpXR5qfBf4F+BtgO/AXwNPAt4F/LnKA8gzbdicMZebMNq9vBm4ucMzv0fk3sEiSdMi6ek3zTODWLN2n0gLUZeYm4Eb2v3dSkqQep6uhuafV803AS8rPd1K6NilJUo/V1dOzi4FzgMcpLVX3ifItIH8FPFLZ0iRJqi1dHWn+PfBk+flNwB8oLWowkBcudiBJUo/SpZFmZja1ev4HSreeSJJ0VOjyfZoAEXEKcHr55fLMXFW5kiRJqk1dvU9zMKVbSy4Gnvuv5vghcHlmbq1wfZIk1YyuXtP8GnAqpQXUjys/pgNjgdmVLU2SpNrS1dOzrwZemZnzW7U9GBH/A/hF5cqSJKn2dHWk+QdKKwC1tQvw1KwkqUframh+HLg5Ikbsayg//0cOsO6sJElHugOeno2IR4Fs1TQWWBMR68uvRwDPAEMoXfOUJKlHKnJN04XQJUmiQGhm5seqUYgkSbXuYBc3+AtgIqXTtssyc04li5IkqRZ1dXGDEcC/Ai/jv9agHR4RTcDrM/PJDneWJOkI19XZs7dQ+h7NUzNzVGaOAk4rt91S6eIkSaolXT09ewEwMzNX72vIzFURcS1wf0UrkySpxnR1pAn7337SWZskST1KV0PzfuALETFqX0NEjAZuxpGmJKmH62poXgucAKyKiCci4gngd+W2aytdnCRJtaSr1zS3An8GzAReWm57LDNdrF2S1OMVDs2I6AX8CajPzJ8DPz9sVUmSVIMKn57NzBbgCaDP4StHkqTa1dVrmv8H+ExEnHQ4ipEkqZZ19ZrmDZS+5WR9RKyjzXdrZuaZlSpMkqRa09XQ/B6lezLjMNQiSVJNKxSaEXE88FngL4FjKd2TeU1mbjl8pUmSVFuKXtP8GPBO4EfAt4HzgX86TDVJklSTip6efQPw7sz8DkBE/AvwYET0Ks+qlSSpxys60hwF/Hrfi8xcCOwFhh+OoiRJqkVFQ7MXsKdN214O8kusJUk6EhUNvQC+GRHNrdqOA2ZHxK59DZl5cSWLkySplhQNzW+00/bNShYiSVKtKxSamfmuw12IJEm17mC+hFqSpKOSoSlJUkGGpiRJBRmakiQVZGhKklSQoSlJUkGGpiRJBRmakiQVZGhKklSQoSlJUkGGpiRJBRmakiQVZGhKklSQoSlJUkGGpiRJBRmakiQVZGhKklSQoSlJUkGGpiRJBRmakiQVVPXQjIirI2J1RDwTEYsi4rxO+p4cEd+KiN9GREtE3NZOn3dGRLbzOO6wvhFJ0lGnqqEZEZcCs4BPAWcDDwE/iYjRHexSB2wBPgMs6OTQu4CTWz8y85lK1S1JElR/pHk9cFtmzs7MxzLzGmAD8N72Omfmmsy8NjNvA57q5LiZmRtbPypfuiTpaFe10IyIPsDLgJ+12fQz4BWHePi+EfFERKyLiB9GxNmHeDxJkl6gdxV/1klAL2BTm/ZNwPmHcNwVwOXAEqA/8DfAgxFRn5kr23aOiKuAqwCGDx/OnDlzABg3bhz9+/dnyZIlAAwePJhJkyYxd+5cAHr37s20adNYvHgx27dvB6ChoYFNmzYBpxxC+apVTU1N7Ny5E4DGxkbWrVvH+vXrAZgwYQK9evVi+fLlAAwbNoyxY8cyf/58APr27UtjYyMLFixg9+7dAEydOpXVq1ezcWPpRMjEiRNpaWlhxYoVAIwYMYKRI0eyYEHpSkS/fv1oaGhg/vz5NDc3AzBt2jQef/xxNm/eDMDkyZNpbm5m5crSX/VRo0YxdOhQmpqaABgwYABTpkxh3rx57N27F4Dp06ezbNkytm7dCkB9fT07duxg1apVAIwZM4ZBgwaxePFiAAYOHEh9fT0PPPAAmUlEMGPGDJYsWcK2bdsAmDJlCk899RRr1qwBDu3ztHbtWgBOO+006urqWLp0KQBDhgxh/PjxzJs3D4C6ujqmTp16UL+n0pUf9TQbNmyoyOepM5GZh/EttPpBEcOB9cCMzJzbqv3DwNszc8IB9v8hsCUz33mAfr2A/wB+lZnXdta3oaEh9/3jciiuvPmQD6EaNPu67q5Ah4uf2Z6pUp/ZiFiUmQ3tbavmNc0tQAswtE37UKBi1yAzswVoAk6r1DElSYIqhmZm7gEWARe02XQBpVm0FRERAZxJaYKRJEkVU81rmgCfB+6IiIXAg8B7gOHAlwEi4naAzLxs3w4RcVb56QDgufLrPZm5vLz9I8DDwMpyn2sphWa7M3IlSTpYVQ3NzLwzIgYDN1G6n3Ip8JrMfKLcpb37Nf+9zevXAU8AY8qvTwS+CgwD/lTuPz0zF1a0eEnSUa/aI00y80vAlzrYNrOdtjjA8T4AfKAixUmS1AnXnpUkqSBDU5KkggxNSZIKMjQlSSrI0JQkqSBDU5KkggxNSZIKMjQlSSrI0JQkqSBDU5KkggxNSZIKMjQlSSrI0JQkqSBDU5KkggxNSZIKMjQlSSrI0JQkqSBDU5KkggxNSZIKMjQlSSrI0JQkqSBDU5KkggxNSZIKMjQlSSrI0JQkqSBDU5KkggxNSZIKMjQlSSrI0JQkqSBDU5KkggxNSZIKMjQlSSrI0JQkqSBDU5KkggxNSZIKMjQlSSrI0JQkqSBDU5KkggxNSZIKMjQlSSrI0JQkqSBDU5KkggxNSZIKMjQlSSrI0JQkqSBDU5KkggxNSZIKMjQlSSrI0JQkqSBDU5KkggxNSZIKMjQlSSrI0JQkqSBDU5KkggxNSZIKMjQlSSqo6qEZEVdHxOqIeCYiFkXEeQfoP6Pc75mIWBUR7znUY0qSdDCqGpoRcSkwC/gUcDbwEPCTiBjdQf+xwI/L/c4GPg18ISLeeLDHlCTpYFV7pHk9cFtmzs7MxzLzGmAD8N4O+r8HeDIzryn3nw18A7jhEI4pSdJBicyszg+K6APsAt6amXe1av8iMDkzZ7Szz1zg0cx8X6u2NwHfAo4H4iCOeRVwVfnlBGBFBd7e0eQkYEt3FyGpMD+zXfeSzHxxext6V7GIk4BewKY27ZuA8zvYZxjwi3b69y4fL7p6zMz8KvDVwlVrPxHRlJkN3V2HpGL8zFaWs2clSSqomiPNLUALMLRN+1BgYwf7bOyg/97y8eIgjilJ0kGp2kgzM/cAi4AL2my6gNKM1/bM76B/U2Y+e5DH1KHx1LZ0ZPEzW0FVmwgEz98ecgdwNfAgpdmx7wYmZeYTEXE7QGZeVu4/FlgKzAa+ApwLfInSxJ+7ixyzam9OktTjVfP0LJl5Z0QMBm4CTqYUiK9pFW6j2/RfHRGvAf4fpVtIngSu3ReYBY8pSVJFVHWkKUnSkczZs5IkFWRoSpJUkKEpSVJBVZ0IpCNTRIwETqV0X+xzwIrM9D5YSUcdJwKpUxHxXuByoB54GvhPYB3wMPD9zFwREcdk5nPdWKYkVYWnZ9Wh8q08nwJ+QOl2nqmUvmWmBbgMuCUiJmbmcxER3VepJICIODYixkdEXXfX0lM50lSHIuIa4K8ys7GdbdMofb/pCODPMtNvUZC6WURcB3wS+C5wD/Ab4A+Z2dKqzwBKC8X8IjOf7Y46j2SONNWZPUD/iJgMEBF15a94IzPnAW8HngFe1X0lSmrlUmAhpTkI36e0FOlnI2JaRLyo3OdtwEcMzINjaKoz36M08ee6iOifmc2ZuScijgHIzN8DfwRGdmONkoCIeDHwLDA7M88DXgL8M3ARMBf4ZUTcCFwHLOiuOo90np5Vu1pdo/zvwCxgEKVTPl8C/p1SUE4H/gk4IzPXdEOZksoi4mTgLcDyzLyvzbazgSvK2wcCozJzffWrPPIZmupURJxIaU3gVwCvp3QtBEpfvRbAHZn50W4pTtJ+IqIvkJn5TOvJeVn+hz4iPklpbe6zu6vGI533aeoFImII8NfA/6T0vaW7KZ2GnQd8DjiW0jWTn2bm491UpqQ2MnP3vrDMNiOiiDgeeCPw9e6oradwpKkXiIjbgEnAvwFPUTo1ewYwHtgM3JSZXhORakR5RuyOtkHZps9xlCYKfbv8XcQ6CIam9lP+v9QdlE7hzG3VNhpopHRdZBzw5sxc3G2FSnpeRHyF0qzZhcATmbm9nT4nZuYfq11bT+PsWbU1EVhN6XYToHSaJzOfyMzvAq+jdKr2Td1TnqTWIuKtwJXAP1JaiOSzEfH6iDilfI1z37XOb+y7fUwHz5Gm9lP+cP0QOJ7Sqj+/a7tEXnnRg3dn5lnVr1BSaxExm9IqXf8XeAPwDuAUYAXwY+B+YAIwKzP7dFedPYUjTe0nM3cDfw/0BW4HLouIURHRD56fTDADWNp9VUoCiIjelM4M/TEzV2Xm5zLzDOAc4AFKAfpd4AvAHd1Xac/hSFPtKp/G+RBwMaWF2ucDfwDOBzYAV2Tmo91XoSSAiBgIDM3M35ZX7Hq29YSgiLgU+DYwJTP/o5vK7DEMTXWqfPvJa4G/pLRk3lLgrsz8bXfWJalj5VW7IjNbIuJKSqdmj+/uunoCQ1OF+RVg0pEnIq4HemXmZ7u7lp7A0JSkHiwijgVa/B/eyjA0JUkqyNmzkiQVZGhKklSQoSlJUkGGpiRJBRmakiQVZGhKklTQ/wcm9ea/Wyrd9AAAAABJRU5ErkJggg==\n",
      "text/plain": [
       "<Figure size 504x360 with 1 Axes>"
      ]
     },
     "execution_count": 6,
     "metadata": {},
     "output_type": "execute_result"
    }
   ],
   "source": [
    "plot_histogram(counts)"
   ]
  },
  {
   "cell_type": "code",
   "execution_count": null,
   "id": "6c078584-c2a4-4efb-a975-7777811c1d04",
   "metadata": {},
   "outputs": [],
   "source": []
  }
 ],
 "metadata": {
  "kernelspec": {
   "display_name": "Qiskit v0.34.2 (ipykernel)",
   "language": "python",
   "name": "python3"
  },
  "language_info": {
   "codemirror_mode": {
    "name": "ipython",
    "version": 3
   },
   "file_extension": ".py",
   "mimetype": "text/x-python",
   "name": "python",
   "nbconvert_exporter": "python",
   "pygments_lexer": "ipython3",
   "version": "3.8.12"
  },
  "widgets": {
   "application/vnd.jupyter.widget-state+json": {
    "state": {},
    "version_major": 2,
    "version_minor": 0
   }
  }
 },
 "nbformat": 4,
 "nbformat_minor": 5
}
