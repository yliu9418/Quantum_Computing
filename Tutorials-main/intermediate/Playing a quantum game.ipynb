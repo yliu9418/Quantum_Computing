{
 "cells": [
  {
   "cell_type": "markdown",
   "metadata": {},
   "source": [
    "# Playing a quantum game "
   ]
  },
  {
   "cell_type": "markdown",
   "metadata": {},
   "source": [
    "Quantum games work in a similar way like games that involve an element of probability. Consider a game where different players have to beat a house or referee. The players are not allowed to communicate with each other during the duration of the game and have to prepare a strategy in advance. To win, the outputs or results given by the players have to satisfy a certain condition or rule of the game. In this tutorial, we will build and play a quantum game by exploring different classical and quantum game strategies!"
   ]
  },
  {
   "cell_type": "markdown",
   "metadata": {},
   "source": [
    "First, we will import the required libraries"
   ]
  },
  {
   "cell_type": "code",
   "execution_count": 1,
   "metadata": {},
   "outputs": [],
   "source": [
    "import numpy as np\n",
    "import random as rand\n",
    "from qiskit import BasicAer\n",
    "from qiskit import QuantumCircuit, ClassicalRegister, QuantumRegister, execute"
   ]
  },
  {
   "cell_type": "markdown",
   "metadata": {},
   "source": [
    "## Introduction\n",
    "\n",
    " Similar to classical computation, quantum computation can be performed using the circuit model of computation, applying different logic gates . Qubits are the analogues of bits and quantum gates   operate on qubits, whilst manipulating quantum mechanical properties . What makes a quantum gate special is its reversibility. In order to have reversible quantum gates, we need to implement it using unitary operations; operations which preserve the sum of the probabilities of seeing each measurable value of the qubits. The sum of the probabilities of each outcome must add up to 1."
   ]
  },
  {
   "cell_type": "markdown",
   "metadata": {},
   "source": [
    "### **Qubits**\n",
    "\n",
    "In quantum computation the objects of the computation are quantum objects called qubits. Qubits are represented as |0⟩ and |1⟩. The qubit state |Ψ⟩ can be expressed as a superposition of |0⟩ and |1⟩, or |Ψ⟩=a|0⟩+b|1⟩ where a and b are complex numbers, proportional to measuring the probability of its corresponding outcome.\n",
    "\n",
    "More specifically, the probability of measuring the qubit state as |0⟩ is $a^2$ and |1⟩ is given by $|b|^2$\n",
    "\n",
    "respectively. Another interesting property that we must know of  is entanglement, which Einstein described as \"spooky action at a distance\". If two qubits are entangled with each other, then if we know the value taken by one of them, then without even observing the second qubit we know it's state/value. The correlations between the values of entangled qubits is unique to quantum probabilities and something we cannot perform on a classical computer. In fact, it is not possible to separate an entangled system in to its independent parts. Whenever we want to observe the value of a quantum system, we must make a measurement of their state. This, causes the system to take collapse to one value. It is not possible to determine with certainty which value the system will take, but we can think about the various probabilities for the allowed values."
   ]
  },
  {
   "cell_type": "markdown",
   "metadata": {},
   "source": [
    "### Quantum Gates\n",
    "\n",
    "The most common quantum gates are:\n",
    "\n",
    "**X gate**: flips the state of a qubit from |0⟩ to |1⟩ and vice-versa\n",
    "\n",
    "**Z gate**: flips the phase of a qubit (changes relative sign of a and b)\n",
    "\n",
    "**Y gate** : flips the state of a qubit and its phase.\n",
    "\n",
    "**H gate:** creates superposition or a linear combination of |0⟩ and |1⟩\n",
    "\n",
    "**Rx, Ry and Rz** gates: Rotates qubit, by changing the coefficients a and b in a way that depends on the angle of rotation inputted into the gate as a parameter\n",
    "\n",
    "### **Two-qubit gates**\n",
    "\n",
    "The most important two qubit gate is the controlled-not gate:\n",
    "\n",
    "**CX**: flips the state of a qubit on the state of another qubit based on a condition. It consists of a control qubit and a target qubit. If the control qubit is in the state |0⟩, then no operation is performed on the target qubit. However, if the control qubit is in the state |1⟩, then a X gate is performed on the target qubit. Creates an entangled bell pair in combination with the H gate\n",
    "\n",
    "## Programming a quantum game\n",
    "\n",
    "Let's make use of quantum properties we just learnt to make our game!\n",
    "\n",
    "Our game involves two players (Alice and Bob) who play against the house. Alice and Bob are allowed to discuss and pick a strategy before the game starts, but not allowed to communicate after the beginning of the game. A referee generates two random bits **x** and **y** which are given as inputs to Alice and Bob respectively. Alice and Bob do not know each other's inputs. They can manipulate their own input however they wish, according to their strategy, and then choose a bit to output. Alice will output a bit **a** and Bob a bit **b**\n",
    "\n",
    "Alice and Bob win against the house if the they satisfy the following condition:"
   ]
  },
  {
   "cell_type": "markdown",
   "metadata": {},
   "source": [
    "$$x\\cdot y= a\\otimes b$$"
   ]
  },
  {
   "cell_type": "markdown",
   "metadata": {},
   "source": [
    "### Classical Strategy\n",
    "\n",
    "In the classical world, Alice can only devise a strategy based on her value of the input bit x and Bob according to its input value y**.** An easy but bad strategy is that they output their input or output the opposite of their input. They can also always input 1 or 0. Can you think of a strategy that will be winning 75% of the time for Alice and Bob?\n",
    "\n",
    "### **Quantum strategy**\n",
    "\n",
    " Alice and Bob play the game by sharing an entangled pair of qubit. Two qubits form an entangled pair and then Alice and Bob are given one of the qubit from the pair. \n",
    "\n",
    "According to the input they receive from the house they will rotate their entangled qubit using the Rx, Ry and Rz gates we mentioned and then measure it. A bad strategy would be to rotate the qubit by a random amount or the same angle. However, it is possible to find the angle of rotation that maximizes the probability of winning the game, which is around 85%. Read [this article](https://sergworks.wordpress.com/2016/10/26/chsh-game-in-detail/) to find out more! \n",
    "\n",
    "There are 3 possible choices the user can pick\n",
    "\n",
    "1)don't rotate the qubit\n",
    "\n",
    "2)rotate a random amount\n",
    "\n",
    "3)rotate to maximize winning probability\n",
    "\n",
    "Let's start coding!"
   ]
  },
  {
   "cell_type": "markdown",
   "metadata": {},
   "source": [
    "### Step 1: Code the algorithm that executes choice 1,2 or 3"
   ]
  },
  {
   "cell_type": "code",
   "execution_count": 5,
   "metadata": {},
   "outputs": [],
   "source": [
    "def qAlice_output(strategy, inp):\n",
    "    if(strategy == 1):\n",
    "        return 0                           #dont rotate the qubit\n",
    "    \n",
    "    elif(strategy == 2):\n",
    "        return rand.uniform(0,2*np.pi)     #rotate the qubit randomly\n",
    "    \n",
    "    elif(strategy == 3):                   # the strategy that maximizes chances at winning\n",
    "        if(inp == 0):\n",
    "            return 0\n",
    "        elif(inp == 1):\n",
    "            return np.pi/2        \n",
    "        else:\n",
    "            return 0   \n",
    "    \n",
    "\n",
    "def qBob_output(strategy, inp):\n",
    "    if(strategy == 1):                    # dont rotate qubit\n",
    "        return 0\n",
    "    \n",
    "    elif(strategy == 2):\n",
    "        return rand.uniform(0,2*np.pi)    # rotate qubit randomly\n",
    "    \n",
    "    elif(strategy == 3):                  #maximize winning chance\n",
    "        if(inp == 0):\n",
    "            return np.pi/4\n",
    "        elif(inp == 1):\n",
    "            return -np.pi/4        \n",
    "        else:\n",
    "            return 0\n",
    "   "
   ]
  },
  {
   "cell_type": "markdown",
   "metadata": {},
   "source": [
    "### Step 2: Input the choice from the user"
   ]
  },
  {
   "cell_type": "code",
   "execution_count": 6,
   "metadata": {},
   "outputs": [
    {
     "name": "stdout",
     "output_type": "stream",
     "text": [
      "select the choice for Alice, input 1,2 or 3 3\n",
      "select the choice for Bob, input 1,2 or 3 3\n"
     ]
    }
   ],
   "source": [
    "# Alice's strategy\n",
    "Alice_strategy = int(input('select the choice for Alice, input 1,2 or 3 '))\n",
    "\n",
    "# Bob's strategy\n",
    "Bob_strategy = int(input('select the choice for Bob, input 1,2 or 3 '))"
   ]
  },
  {
   "cell_type": "markdown",
   "metadata": {},
   "source": [
    "### Step 3: Initialize the circuit and counters"
   ]
  },
  {
   "cell_type": "code",
   "execution_count": 7,
   "metadata": {},
   "outputs": [],
   "source": [
    "shots = 1 # the number of times the circuit is run, to keep a track of the measurement outcomes \n",
    "backend = BasicAer.get_backend('qasm_simulator') #initialize the quantum device to run the circuit\n",
    "\n",
    "#fixes the numbers of games to be played\n",
    "N=100\n",
    "\n",
    "# initializes counters to keep track of the numbers of games won and played by Alice and Bob\n",
    "count_win = 0 # counts games won\n",
    "count_tot = 0 # counts games played"
   ]
  },
  {
   "cell_type": "markdown",
   "metadata": {},
   "source": [
    "### Play N games and execute the quantum games "
   ]
  },
  {
   "cell_type": "code",
   "execution_count": 8,
   "metadata": {},
   "outputs": [],
   "source": [
    "#play N games\n",
    "for i in range(N):\n",
    "\n",
    "    # creates a quantum register to specify the number of qubits to be used\n",
    "    q = QuantumRegister(2) \n",
    "    # creates a classical register which stores the results of the measurement of the qubits\n",
    "    c = ClassicalRegister(2) \n",
    "\n",
    "    # creates quantum circuit\n",
    "    game = QuantumCircuit(q, c)\n",
    "    \n",
    "    # Prepare the entangled Bell pair by applying a hadamard and cx gate\n",
    "    # Alice will have qubit 0 and Bob will have qubit 1\n",
    "    game.h(q[0]) # Hadamard gate on qubit 0\n",
    "    game.cx(q[0],q[1]) # CNOT gate on qubit 1 controlled by qubit 0\n",
    "\n",
    "    # generates two random inputs x and y to be given to Alice and Bob\n",
    "    random_num1 = rand.random() \n",
    "    random_num2 = rand.random() \n",
    "\n",
    "    if(random_num1 >= 1/2): # Convert the decimal to 0 if it is less than half\n",
    "        x = 0\n",
    "    else: x = 1\n",
    "\n",
    "    if(random_num2 >= 1/2):\n",
    "        y = 0\n",
    "    else: y = 1\n",
    "\n",
    "    # fix different rotation angles for their qubit according to the input x,y\n",
    "    theta = qAlice_output(Alice_strategy, x) # fixes Alice's rotation for her qubit\n",
    "    phi = qBob_output(Bob_strategy, y) # fixes Bob's rotation for his qubit\n",
    "    \n",
    "    # Gates applied to rotate Alice and Bob qubit\n",
    "    game.ry(theta,q[0]) #rotates Alice's qubit by an angle theta\n",
    "    game.ry(phi,q[1]) ##rotates Bob's qubit by an angle phi\n",
    "\n",
    "  "
   ]
  },
  {
   "cell_type": "markdown",
   "metadata": {},
   "source": [
    "### Step 5: Extract the output"
   ]
  },
  {
   "cell_type": "code",
   "execution_count": 10,
   "metadata": {},
   "outputs": [],
   "source": [
    "game.measure(q[0], c[0]) # measure Alice's qubit\n",
    "game.measure(q[1], c[1]) # measure Bob's qubit\n",
    "\n",
    "# executes circuit and store the output of the measurements\n",
    "result = execute(game, backend=backend, shots=shots).result()\n",
    "\n",
    "data = result.get_counts()\n",
    "for outcomes in data.keys():\n",
    "        output = outcomes"
   ]
  },
  {
   "cell_type": "markdown",
   "metadata": {},
   "source": [
    "### Step 6: Print the probability of winning the game"
   ]
  },
  {
   "cell_type": "code",
   "execution_count": 11,
   "metadata": {},
   "outputs": [
    {
     "name": "stdout",
     "output_type": "stream",
     "text": [
      "Alice and Bob won the game with probability:  100.0 %\n"
     ]
    }
   ],
   "source": [
    "if(output == '00'):\n",
    "    a = 0\n",
    "    b = 0\n",
    "if(output == '01'):   #qiskit reads from right to left\n",
    "    a = 1\n",
    "    b = 0    \n",
    "if(output == '10'):\n",
    "    a = 0\n",
    "    b = 1\n",
    "if(output == '11'):\n",
    "    a = 1\n",
    "    b = 1\n",
    "\n",
    "\n",
    "    # if winning condition is met, increase count_win by 1\n",
    "if(x*y == a^b):\n",
    "    count_win += 1 \n",
    "    \n",
    "count_tot += 1 \n",
    "qProb_win = count_win/count_tot\n",
    "\n",
    "print('Alice and Bob won the game with probability: ', qProb_win*100, '%')"
   ]
  },
  {
   "cell_type": "markdown",
   "metadata": {},
   "source": [
    "q_Prob_win is 100%, which is better than if we used a classical strategy to play the game!"
   ]
  },
  {
   "cell_type": "code",
   "execution_count": null,
   "metadata": {},
   "outputs": [],
   "source": []
  }
 ],
 "metadata": {
  "kernelspec": {
   "display_name": "Python 3",
   "language": "python",
   "name": "python3"
  },
  "language_info": {
   "codemirror_mode": {
    "name": "ipython",
    "version": 3
   },
   "file_extension": ".py",
   "mimetype": "text/x-python",
   "name": "python",
   "nbconvert_exporter": "python",
   "pygments_lexer": "ipython3",
   "version": "3.7.6"
  }
 },
 "nbformat": 4,
 "nbformat_minor": 4
}
